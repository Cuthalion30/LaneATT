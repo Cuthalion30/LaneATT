{
 "cells": [
  {
   "cell_type": "markdown",
   "id": "9c2bf157-01a8-466c-b1bd-98f158b251fe",
   "metadata": {},
   "source": [
    "# Visualize the data\n",
    "\n",
    "This file is modeled on the following document:\n",
    "\"https://github.com/TuSimple/tusimple-benchmark/blob/master/example/lane_demo.ipynb\""
   ]
  },
  {
   "cell_type": "code",
   "execution_count": 2,
   "id": "daa0b7fe-a8ae-4154-a203-5ee8c4c77116",
   "metadata": {},
   "outputs": [],
   "source": [
    "# Front Matter\n",
    "import json\n",
    "import numpy as np\n",
    "import cv2\n",
    "import matplotlib.pyplot as plt\n",
    "%matplotlib inline"
   ]
  },
  {
   "cell_type": "code",
   "execution_count": null,
   "id": "cf30e55e-30a0-4d95-8719-7d3ba33956eb",
   "metadata": {},
   "outputs": [],
   "source": [
    "json_gt = [json.loads(line) for line in open('label_data_0001.json')]"
   ]
  },
  {
   "cell_type": "code",
   "execution_count": null,
   "id": "3c1c2372-73f1-4256-9ec3-3431702f7837",
   "metadata": {},
   "outputs": [],
   "source": [
    "img = plt.imread(raw_file)\n",
    "plt.imshow(img)\n",
    "plt.show()"
   ]
  }
 ],
 "metadata": {
  "kernelspec": {
   "display_name": "Python 3",
   "language": "python",
   "name": "python3"
  },
  "language_info": {
   "codemirror_mode": {
    "name": "ipython",
    "version": 3
   },
   "file_extension": ".py",
   "mimetype": "text/x-python",
   "name": "python",
   "nbconvert_exporter": "python",
   "pygments_lexer": "ipython3",
   "version": "3.8.8"
  }
 },
 "nbformat": 4,
 "nbformat_minor": 5
}
