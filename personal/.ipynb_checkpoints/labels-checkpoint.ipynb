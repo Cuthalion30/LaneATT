{
 "cells": [
  {
   "cell_type": "markdown",
   "id": "6ae95fb4-e29a-45b7-8b2e-e0ea99f2d000",
   "metadata": {},
   "source": [
    "# Labeling Data\n",
    "\n",
    "Using polylines from the cv2 package, we will label the data in a similar way to the industry standard TuSimple dataset for lanedetection."
   ]
  },
  {
   "cell_type": "code",
   "execution_count": null,
   "id": "4eceb8b9-6e50-4828-a717-498fb5420e25",
   "metadata": {},
   "outputs": [],
   "source": [
    "# Front Matter\n",
    "import cv2\n",
    "import numpy as np\n",
    "import matplotlib.pyplot as plt\n",
    "import math\n",
    "import json\n",
    "import glob as g"
   ]
  },
  {
   "cell_type": "markdown",
   "id": "6d11c130-a9cd-4922-a75a-528ca0e19963",
   "metadata": {},
   "source": [
    "## Functions Used\n",
    "\n",
    "`get_hsamples` <br>\n",
    "This is one of the fundamental points in the labeling. As perscribed in the TuSimple dataset documenation, we want to sample a horizontal pixal plane at regular intervals in the perscribed area (i.e., where the lanes are).\n",
    "\n",
    "`get_lane_pts` <br>\n",
    "Once you manually define the curved points of the lane, this function located all the points along each horizontal sample that you marked with a particular color."
   ]
  },
  {
   "cell_type": "code",
   "execution_count": null,
   "id": "8a9e9d57-4bb0-496f-8091-c9e00004b562",
   "metadata": {},
   "outputs": [],
   "source": [
    "# Function for pulling out h_samples\n",
    "def get_hsamples(img, y_intercept, interval):\n",
    "    h_samples = [y_intercept]\n",
    "    yrange = img.shape[0] - y_intercept\n",
    "    # adding all y_intercepts to h_samples list\n",
    "    for x in range(math.floor(yrange/interval)):\n",
    "        y_intercept += interval\n",
    "        if y_intercept <= img.shape[0]:\n",
    "            h_samples.append(y_intercept)\n",
    "        else:\n",
    "            break\n",
    "    return h_samples\n",
    "\n",
    "\n",
    "# Draw lines for visualization\n",
    "def draw_hlines(img, h_samples):\n",
    "    img_vis = img.copy()\n",
    "    color = (255,0,0)\n",
    "    size = 2\n",
    "    for y in h_samples:\n",
    "        ls = (0, y)\n",
    "        le = (640, y)\n",
    "        img_vis = cv2.line(img_vis, ls, le, color, size)\n",
    "    plt.imshow(img_vis)\n",
    "    plt.show()\n",
    "    return img_vis\n",
    "\n",
    "def draw_lane(img, start, end):\n",
    "    img_vis = img.copy()\n",
    "    size = 2\n",
    "    color = (0, 255, 0)\n",
    "    img_vis = cv2.line(img_vis, start, end, color, size)\n",
    "    plt.imshow(img_vis)\n",
    "    plt.show()\n",
    "    return img_vis\n",
    "\n",
    "# Function to view ground truth after deriving h_samples and lane points\n",
    "def view_ground_truth(lane_gt, h_samples):\n",
    "    gt_lanes_vis = [[(x, y) for (x, y) in zip(lane, h_samples) if x >= 0] for lane in lane_gt]\n",
    "    img_vis = img.copy()\n",
    "\n",
    "    for lane in gt_lanes_vis:\n",
    "        for pt in lane:\n",
    "            cv2.circle(img_vis, pt, radius=5, color=(0, 255, 0), thickness = 2)\n",
    "\n",
    "    plt.imshow(img_vis)\n",
    "    plt.show()"
   ]
  },
  {
   "cell_type": "code",
   "execution_count": null,
   "id": "2dfa37ef-4bb4-427a-9819-5c2c1ae260d9",
   "metadata": {},
   "outputs": [],
   "source": [
    "# derives the points where the lane intersects the h_samples to establish the ground truth\n",
    "def get_lane_pts(img, h_samples, Lane_marks):\n",
    "    # create empty lane array\n",
    "    all_lanes = []\n",
    "    \n",
    "    for mark in Lane_marks:\n",
    "        img_vis = img.copy()\n",
    "        lane_img = draw_lane(img_vis, tuple(mark[0]), tuple(mark[1]))   \n",
    "        lane = []\n",
    "        for h in h_samples:\n",
    "            if np.array([0,  255,   0]) in lane_img[h][:]:\n",
    "                count = 0\n",
    "                for x in range(len(lane_img[h])):\n",
    "                    if list(lane_img[h][x][:]) == [0,  255,   0]:\n",
    "                        if count == 0:\n",
    "                            lane.append(x)\n",
    "                            count = 1\n",
    "                        else:\n",
    "                            pass\n",
    "                    else:\n",
    "                        pass\n",
    "            else:\n",
    "                lane.append(-2)\n",
    "      \n",
    "        all_lanes.append(lane)              \n",
    "    \n",
    "    return all_lanes"
   ]
  },
  {
   "cell_type": "markdown",
   "id": "cf962304-58a9-401d-8a35-9f7c56de6fce",
   "metadata": {},
   "source": [
    "# Start manual labeling process"
   ]
  },
  {
   "cell_type": "code",
   "execution_count": null,
   "id": "d9abcae4-6ff2-40bb-a5e8-39d2a8a64a87",
   "metadata": {},
   "outputs": [],
   "source": [
    "path = \"../datasets/personal/clips/0008/ezgif-frame-020.jpg\"\n",
    "img = plt.imread(path)\n",
    "# Select the location where the road ends\n",
    "###WARNING### Make sure intercept doesn't cause the last value to be 640\n",
    "y_intercept = 90\n",
    "\n",
    "# Establish visualization where the road is\n",
    "plt.imshow(img[y_intercept:])\n",
    "plt.show()"
   ]
  },
  {
   "cell_type": "markdown",
   "id": "0424469e-6f95-4b3f-9f83-c77a2894c2e3",
   "metadata": {},
   "source": [
    "## For Image Clip 000X\n",
    "\n",
    "Things that need to be predetermined: <br>\n",
    "\n",
    "<ul> \n",
    "    <li>File path to the 20th image in the 1s video clip </li>\n",
    "    <li>Use plt.imread(path) to read in the image</li>\n",
    "    <li>Select the location where the road ends on the horizon. Assign y_intercept.</li>\n",
    "    <li>Visualize to make sure that the y_intercept selection was appropriate</li>\n",
    "</ul>\n",
    "\n",
    "Establish visualization where the road is\n",
    "plt.imshow(img[y_intercept:])\n",
    "plt.show()"
   ]
  },
  {
   "cell_type": "code",
   "execution_count": null,
   "id": "b8f2705d-2451-4ab0-86d2-1fbcbbfa6706",
   "metadata": {},
   "outputs": [],
   "source": [
    "# find the right points for all lines\n",
    "t = draw_lane(img, (425, 80), (640,209))"
   ]
  },
  {
   "cell_type": "code",
   "execution_count": null,
   "id": "a5b5519a-ece0-4ca6-8a9e-89525dd48d51",
   "metadata": {},
   "outputs": [],
   "source": [
    "# add points here\n",
    "AW = np.array([ [(0,305), (180,200)], [(0,620), (240,200)], [(100,640), (250,210)], [(310,200), (640,580)] ])"
   ]
  },
  {
   "cell_type": "code",
   "execution_count": null,
   "id": "23e090b3-72dc-425d-8a56-408ffcde1c7f",
   "metadata": {},
   "outputs": [],
   "source": [
    "# See if the horizontal lines are correctly established\n",
    "h_samples = get_hsamples(img, y_intercept, 20)\n",
    "img_vis = draw_hlines(img, h_samples)"
   ]
  },
  {
   "cell_type": "code",
   "execution_count": null,
   "id": "a350e538-570f-48ce-af86-183c2bb482a7",
   "metadata": {},
   "outputs": [],
   "source": [
    "all_lanes = get_lane_pts(img, h_samples, AW)"
   ]
  },
  {
   "cell_type": "code",
   "execution_count": null,
   "id": "744f9bdb-48a3-4f27-90c1-2b4c9e6cc2af",
   "metadata": {},
   "outputs": [],
   "source": [
    "view_ground_truth(all_lanes, h_samples)"
   ]
  },
  {
   "cell_type": "markdown",
   "id": "d03a26cb-228e-4709-a692-d52e8ffec2bd",
   "metadata": {},
   "source": [
    "# Write to a JSON File\n",
    "This is the final step in the process.\n",
    "\n",
    "*WARNING* <br>\n",
    "Make sure the file path is renamed so that you don't accidentally rewrite old files!"
   ]
  },
  {
   "cell_type": "code",
   "execution_count": null,
   "id": "de932a81-54ea-4fb8-87fb-3a1ec9af11a4",
   "metadata": {},
   "outputs": [],
   "source": [
    "data = {\n",
    "    \"lanes\" : all_lanes,\n",
    "    \"h_samples\" : h_samples,\n",
    "    \"raw file\" : path\n",
    "}\n",
    "\n",
    "\n",
    "# Writing to sample.json\n",
    "with open(\"/storage/home/nak5437/scratch/LaneATT/datasets/personal/label_data_0009.json\", \"w\") as f:\n",
    "    json.dump(data, f)\n",
    "    f.close()"
   ]
  },
  {
   "cell_type": "code",
   "execution_count": null,
   "id": "11140c49-d84d-4e2d-9bc0-beb085ac871d",
   "metadata": {},
   "outputs": [],
   "source": []
  }
 ],
 "metadata": {
  "kernelspec": {
   "display_name": "Python 3",
   "language": "python",
   "name": "python3"
  },
  "language_info": {
   "codemirror_mode": {
    "name": "ipython",
    "version": 3
   },
   "file_extension": ".py",
   "mimetype": "text/x-python",
   "name": "python",
   "nbconvert_exporter": "python",
   "pygments_lexer": "ipython3",
   "version": "3.8.8"
  }
 },
 "nbformat": 4,
 "nbformat_minor": 5
}
