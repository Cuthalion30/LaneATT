{
 "cells": [
  {
   "cell_type": "markdown",
   "id": "f21ca523-cf21-4189-ad88-5e98f3ed7c50",
   "metadata": {},
   "source": [
    "# Compiling JSON files"
   ]
  },
  {
   "cell_type": "code",
   "execution_count": 8,
   "id": "45a7a2f8-c868-45ed-869d-a597c46923eb",
   "metadata": {},
   "outputs": [],
   "source": [
    "import os\n",
    "import json\n",
    "import glob as g"
   ]
  },
  {
   "cell_type": "code",
   "execution_count": 9,
   "id": "2bce9737-cf1d-4ad6-a967-3731a179ed9c",
   "metadata": {},
   "outputs": [],
   "source": [
    "directory = \"/storage/home/nak5437/scratch/LaneATT/datasets/tusimple-test/\"\n",
    "\n",
    "# with open(directory + 'test_label.json', 'w') as pater:\n",
    "#     json.dump()"
   ]
  },
  {
   "cell_type": "code",
   "execution_count": 10,
   "id": "d88ffc9a-ffe3-49c3-9575-733336edf63d",
   "metadata": {},
   "outputs": [],
   "source": [
    "# Open the first JSON file for reading\n",
    "labels_base_folder = directory + 'json_solo/label00**.json'\n",
    "labels_json_list = g.glob(labels_base_folder)\n",
    "\n",
    "for jsf in labels_json_list:\n",
    "\n",
    "    # Load in a json file\n",
    "    with open(jsf, 'r') as out:\n",
    "        data = json.load(out)\n",
    "        img_dict_str = str(data)\n",
    "        img_dict = eval(img_dict_str)\n",
    "        \n",
    "    with open(directory + 'test_label.json', '+a') as pater:\n",
    "        string = json.dumps(img_dict)\n",
    "        string += '\\n'\n",
    "        pater.write(string)"
   ]
  }
 ],
 "metadata": {
  "kernelspec": {
   "display_name": "Python 3",
   "language": "python",
   "name": "python3"
  },
  "language_info": {
   "codemirror_mode": {
    "name": "ipython",
    "version": 3
   },
   "file_extension": ".py",
   "mimetype": "text/x-python",
   "name": "python",
   "nbconvert_exporter": "python",
   "pygments_lexer": "ipython3",
   "version": "3.8.8"
  }
 },
 "nbformat": 4,
 "nbformat_minor": 5
}
